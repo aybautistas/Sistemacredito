{
 "cells": [
  {
   "cell_type": "code",
   "execution_count": 1,
   "id": "3875d9b7",
   "metadata": {
    "id": "3875d9b7"
   },
   "outputs": [],
   "source": [
    "import numpy as np\n",
    "import matplotlib.pyplot as plt\n",
    "import pandas as pd\n",
    "import random"
   ]
  },
  {
   "cell_type": "code",
   "execution_count": 2,
   "id": "edb8ee5c",
   "metadata": {
    "id": "edb8ee5c"
   },
   "outputs": [],
   "source": [
    "#Definicion constantes\n",
    "N=1000 #numero de agentes\n",
    "M=1000 #dinero total\n",
    "W=15 #numero de estados\n",
    "nsteps=100000 #pasos de tiempo\n",
    "#random.seed(1)\n",
    "T=np.divide(M,N)#dinero promedio\n",
    "agents=np.zeros(N) #creamos un array en cada casilla tenemos el dinero del agente i-esimo\n",
    "credito=np.zeros(N)"
   ]
  },
  {
   "cell_type": "code",
   "execution_count": 3,
   "id": "8ac609bf",
   "metadata": {
    "id": "8ac609bf"
   },
   "outputs": [],
   "source": [
    "#1. funcion de inicializacion \n",
    "def initialize_agents(ag,size,prom):\n",
    "    for i in range(size):\n",
    "        ag[i]=prom "
   ]
  },
  {
   "cell_type": "code",
   "execution_count": 4,
   "id": "8d10f04f",
   "metadata": {},
   "outputs": [],
   "source": [
    "#funcion 2 de inicializacion\n",
    "def initialize2(ag,size,prom,ndif):\n",
    "    for s in range(ndif):\n",
    "        ag[s]=0.0\n",
    "    for l in range(ndif,size,1):\n",
    "        ag[l]=np.divide((size*prom),(size-ndif))"
   ]
  },
  {
   "cell_type": "code",
   "execution_count": 5,
   "id": "be9f5661",
   "metadata": {
    "id": "be9f5661"
   },
   "outputs": [],
   "source": [
    "def interaction(ag,N,nsteps,Lambda,cr):\n",
    "    #epsilon=random.uniform(-1,1) #primer cambio epsilon entre -1 y 1\n",
    "    mdeuda=-1*2\n",
    "    l_entropia=[]\n",
    "    for k in range(nsteps):\n",
    "        epsilon=random.uniform(-1,1)\n",
    "        i=random.randint(0,N-1)\n",
    "        j=random.randint(0,N-1) \n",
    "        if i!=j:\n",
    "            '''\n",
    "            print('i',i)\n",
    "            print('j',j)\n",
    "            print('vector credito antes de interactuar', cr)\n",
    "            '''\n",
    "            tempi=ag[i]\n",
    "            tempj=ag[j]\n",
    "            delta_m=(1-Lambda)*(epsilon*tempj-(1-epsilon)*tempi)\n",
    "            '''\n",
    "            print('tempi',tempi)\n",
    "            print('tempj', tempj)\n",
    "            print('deltam',delta_m)\n",
    "            '''\n",
    "            mi = tempi + delta_m #winner\n",
    "            mj = tempj - delta_m #loser\n",
    "            '''\n",
    "            print('mi despues de interactuar', mi)\n",
    "            print('mj despues de interactuar', mj)\n",
    "            '''\n",
    "            crfi = cr[i]-np.abs(mi)#vi' (si i perdiera y se hiciera la transaccción)      \n",
    "            crfj = cr[j]-np.abs(mj)# vj' (si j perdiera y se hiciera la transaccción)\n",
    "            #condicion para j  -> deuda cuando pido dinero prestado\n",
    "            if(delta_m>=0):\n",
    "                if ((crfj>mdeuda and mj>mdeuda) and (mj<0 and mi>=np.abs(mj))): #segundo cambio agrupar los ands\n",
    "                     #tercer cambio poner if en otra posicion\n",
    "                    cr[j] += mj        #vector v para guardar la deuda \n",
    "                       #condicion para i  -> credito cuando presto dinero\n",
    "                    cr[i] += -1*mj #para garantizar que i tenga dinero suficiente para hacer el prestamo\n",
    "                    mi=mi-np.abs(mj)\n",
    "                    mj=0\n",
    "                    '''    \n",
    "                    print('credito j',cr[j])\n",
    "                    print('credito i', cr[i])\n",
    "                    print('mi despues credito', mi)\n",
    "                    print('mj despues credito', mj)\n",
    "                    '''\n",
    "                #print('vector credito', cr)\n",
    "                if ((mi<np.abs(mj)) or (mj<mdeuda)): #no se hace nada si i no le ṕuede prestar\n",
    "                    mj=tempj\n",
    "                    mi=tempi\n",
    "            if(delta_m<0): #si j es el que presta\n",
    "                if ((crfi>mdeuda and mi>mdeuda) and (mi<0 and mj>=np.abs(mi))): #segundo cambio agrupar los ands\n",
    "                #tercer cambio poner if en otra posicion\n",
    "                    cr[i] += mi        #vector v para guardar la deuda \n",
    "                #condicion para i  -> credito cuando presto dinero\n",
    "                    cr[j] += -1*mi #para garantizar que i tenga dinero suficiente para hacer el prestamo\n",
    "                    mj=mj-np.abs(mi)\n",
    "                    mi=0\n",
    "                    '''\n",
    "                    print('credito i',cr[i])\n",
    "                    print('credito j', cr[j])\n",
    "                    print('mi despues credito', mi)\n",
    "                    print('mj despues credito', mj)\n",
    "                    '''    \n",
    "                #print('vector credito', cr)\n",
    "                if ((mj<np.abs(mi)) or (mi<mdeuda)):\n",
    "                    mi=tempi\n",
    "                    mj=tempj\n",
    "            #guardar los ingresos en u\n",
    "            ag[i]=mi\n",
    "            ag[j]=mj\n",
    "            '''\n",
    "            print('ingreso i', ag[i])\n",
    "            print('ingreso j', ag[j])\n",
    "            print('fin del paso de tiempo')\n",
    "            print('         ')\n",
    "            '''\n",
    "            #u viene de los ingresos u=[0,infinto] y v=[-mdeuda,infinito]\n"
   ]
  },
  {
   "cell_type": "code",
   "execution_count": 6,
   "id": "5a34ed5b",
   "metadata": {
    "id": "5a34ed5b"
   },
   "outputs": [],
   "source": [
    "def entropia(ag,w):\n",
    "    #parametros para los intervalos\n",
    "    S=ag.size # numero de agentes\n",
    "    Imin=np.min(ag)\n",
    "    Imax=np.max(ag)\n",
    "    ancho=np.divide((Imax-Imin),1.0*w)\n",
    "    intervalos=[]\n",
    "    #parametros calculo de la entropia de Shannon\n",
    "    pi=np.zeros(w)\n",
    "    pilnpi=np.zeros(w)\n",
    "    frec=np.zeros(w)\n",
    "    #crear los intervalos\n",
    "    for k in range(w):\n",
    "        mink=Imin+k*ancho\n",
    "        maxk=Imin+(k+1)*ancho\n",
    "        intervalos.append(mink)\n",
    "        #empezamos a calcular las frecuencias\n",
    "        if k==w-1: #para el ultimo intervalo la condicion debe ser cerrada para maxk\n",
    "            frec[k]=len(ag[(ag>=mink) & (ag<=maxk)])\n",
    "        else:\n",
    "            frec[k]=len(ag[(ag>=mink) & (ag<maxk)])\n",
    "        #una vez que ya tenemos la frecuencia, calculamos pi\n",
    "        pi[k]=np.divide(frec[k],1.0*S)\n",
    "        #calculamos pi*lnpi\n",
    "        if pi[k]==0:\n",
    "            pilnpi[k]=0\n",
    "        else:\n",
    "            pilnpi[k]=pi[k]*np.log(pi[k])\n",
    "    #agregamos el ultimo limite a los intervalos\n",
    "    intervalos.append(Imax)\n",
    "    #calculamos la suma de pilnpi\n",
    "    sumpilnpi=np.sum(pilnpi)\n",
    "    entropy=-1*sumpilnpi\n",
    "    #al final retornamos los intervalos, las frecuencias y la entropia\n",
    "    return intervalos,frec,entropy\n"
   ]
  },
  {
   "cell_type": "code",
   "execution_count": 7,
   "id": "1e528081",
   "metadata": {
    "id": "1e528081"
   },
   "outputs": [],
   "source": [
    "#funcion para calcular el gini\n",
    "def gini(df0):\n",
    "    N=df0.size\n",
    "    Itotal=np.sum(df0)\n",
    "    #creamos arrays para calcular poblacion e ingreso acumulado\n",
    "    Xing=np.zeros(N) #ingreso de cada individuo/ingreso total\n",
    "    Xcum=np.zeros(N) #ingreso acumulado\n",
    "    Xsum=np.zeros(N) #Xk+Xk-1\n",
    "    Ypob=np.zeros(N) #1/pobtotal\n",
    "    Ycum=np.zeros(N) #poblacion agregada\n",
    "    Ydiff=np.zeros(N) #Yk-Yk-1\n",
    "    XsumYdiff=np.zeros(N) #(Xk+Xk-1)(Yk-Yk-1)\n",
    "    \n",
    "    for i in range(N):\n",
    "        #llenamos array Xing\n",
    "        Xing[i]=1.0*df0[i]/Itotal\n",
    "        #llenamos array Xcum\n",
    "        if i==0:\n",
    "            Xcum[i]=Xing[i]\n",
    "        else:\n",
    "            Xcum[i]=Xing[i]+Xcum[i-1]\n",
    "        #llenamos array Xsum\n",
    "        if i==0:\n",
    "            Xsum[i]=Xcum[i]\n",
    "        else:\n",
    "            Xsum[i]=Xcum[i]+Xcum[i-1]\n",
    "        #hacemos lo mismo para Y\n",
    "        Ypob[i]=1.0/N\n",
    "        if i==0:\n",
    "            Ycum[i]=Ypob[i]\n",
    "        else:\n",
    "            Ycum[i]=Ypob[i]+Ycum[i-1]\n",
    "        if i==0:\n",
    "            Ydiff[i]=Ycum[i]\n",
    "        else:\n",
    "            Ydiff[i]=Ycum[i]-Ycum[i-1]\n",
    "        #llenar array de multiplicacion (Xk+Xk+1)(Yk-Yk-1)\n",
    "        XsumYdiff[i]=Xsum[i]*Ydiff[i]\n",
    "    #una vez todo este lleno calculamos la suma\n",
    "    sumaXsumYdiff=np.sum(XsumYdiff)\n",
    "    Gini=1.0-sumaXsumYdiff\n",
    "    return Xcum, Ycum, Gini"
   ]
  },
  {
   "cell_type": "code",
   "execution_count": 8,
   "id": "e9431e41",
   "metadata": {
    "id": "e9431e41"
   },
   "outputs": [],
   "source": [
    "#funcion para calcular el Theil\n",
    "def theil(df0):\n",
    "    N=df0.size\n",
    "    Itotal=np.sum(df0)\n",
    "    Ui=np.zeros(N) #array fraccion de ingreso con respecto al total\n",
    "    UilnUi=np.zeros(N)\n",
    "    for j in range(N):\n",
    "        Ui[j]=1.0*df0[j]/Itotal\n",
    "        if Ui[j]==0:\n",
    "            UilnUi[j]=0\n",
    "        else:\n",
    "            UilnUi[j]=Ui[j]*np.log(Ui[j])\n",
    "    #calculamos la suma Ui*lnUi\n",
    "    sumaUilnUi=np.sum(UilnUi)\n",
    "    Theil=1+sumaUilnUi\n",
    "    Theil_norm=1+np.divide(sumaUilnUi,np.log(N))\n",
    "    return Theil_norm"
   ]
  },
  {
   "cell_type": "code",
   "execution_count": 9,
   "id": "2cb05d59",
   "metadata": {},
   "outputs": [],
   "source": [
    "#Movilidad Social \n",
    "def movilidad(final, inicial, numAgentes):\n",
    "    diferencia = final-inicial\n",
    "    '''\n",
    "    a=[1,2,3]\n",
    "    a>1\n",
    "    b=[False, True, True]\n",
    "    c=a[a>1]\n",
    "    c=[2,3]  \n",
    "    '''\n",
    "    #print('diferencia', diferencia)\n",
    "    num = len(diferencia[diferencia>0])\n",
    "    print('# de agentes que aumentaron su ingreso', num)\n",
    "    probabilidad = num/numAgentes\n",
    "    print('probabilidad de aumentar ingreso', probabilidad)\n",
    "    return probabilidad"
   ]
  },
  {
   "cell_type": "code",
   "execution_count": 10,
   "id": "50c0f02c",
   "metadata": {},
   "outputs": [
    {
     "name": "stdout",
     "output_type": "stream",
     "text": [
      "[ 6.73526006e+00 -1.62188098e+00 -1.72181288e+00  8.16441362e-01\n",
      " -1.04660349e+00 -1.92883839e+00  3.29323369e+00  1.19668521e+01\n",
      " -1.36624878e+00  1.96706796e+00 -1.57953507e+00  1.16018569e+01\n",
      "  7.52279002e-01 -1.76225068e+00  0.00000000e+00  2.97098180e+00\n",
      "  8.52282109e+00  0.00000000e+00  9.42196901e+00 -1.73923353e+00\n",
      " -1.43350828e+00  2.43652355e+01 -1.28527678e+00 -1.89731792e+00\n",
      " -1.96224847e+00 -1.56031433e+00 -1.92242081e+00 -1.49932337e+00\n",
      " -1.49738521e+00  0.00000000e+00  4.02238066e-01  0.00000000e+00\n",
      " -1.69711471e+00  7.38930071e+00 -1.65732959e+00  0.00000000e+00\n",
      " -1.36985699e+00  0.00000000e+00 -1.73067354e+00 -1.98442499e+00\n",
      "  2.43006893e+00 -1.86041256e+00 -1.74339411e+00  2.59125490e+01\n",
      " -1.68080905e+00  6.82916046e+00  0.00000000e+00  0.00000000e+00\n",
      "  1.83003256e+01 -1.72998523e+00 -1.45762189e+00 -1.92058871e+00\n",
      " -1.79592158e+00 -2.94151081e-01  2.54952850e+01  1.99472724e+00\n",
      "  7.41030642e+00  6.00408560e+00  3.64811859e+00 -1.51446326e+00\n",
      "  2.24054402e+00 -1.49305835e+00  2.21051301e+01 -1.76524023e+00\n",
      " -8.38840515e-01 -1.78538634e+00 -9.37039400e-01 -1.88701765e+00\n",
      "  6.15872066e+00  0.00000000e+00 -1.95439549e+00  2.80312853e+00\n",
      " -1.67615396e+00  6.98561658e+00 -1.43875200e+00  1.04019760e+00\n",
      " -1.20648962e+00 -7.13907739e-01 -1.96308221e+00 -1.63381011e+00\n",
      " -1.90350285e+00  3.93691537e+00 -1.65909372e+00 -1.43346907e+00\n",
      " -1.31925873e+00 -1.49130476e+00 -1.83531077e+00 -1.77076752e+00\n",
      " -1.97442555e+00  0.00000000e+00  1.10576042e+01  0.00000000e+00\n",
      "  1.43649249e+00  0.00000000e+00  8.18929506e+00  0.00000000e+00\n",
      " -1.94325637e+00 -1.38683523e+00 -1.45672012e+00  8.28179997e+00\n",
      " -1.38912750e+00  0.00000000e+00  2.22569814e+00 -1.82944420e+00\n",
      " -1.66626094e+00 -1.75037685e+00 -1.00021993e+00  0.00000000e+00\n",
      " -1.24599469e+00 -5.18818567e-01  1.76462806e-01 -1.60215112e+00\n",
      " -1.26080188e+00  7.99352156e-01  4.46762290e-02  4.93124281e+00\n",
      " -1.56783071e+00 -1.92165186e+00 -1.71970433e+00  0.00000000e+00\n",
      "  1.94671454e-01 -1.79791996e+00 -1.84843931e+00 -1.05022201e+00\n",
      " -1.91548426e+00 -1.80025635e+00  0.00000000e+00 -1.74948772e+00\n",
      "  0.00000000e+00 -1.40197706e+00 -1.21583778e+00  3.40662933e-01\n",
      "  4.50032891e-01 -1.30842683e+00  1.32601399e+00 -1.94074605e+00\n",
      "  0.00000000e+00 -1.85800990e+00  0.00000000e+00 -1.48120977e+00\n",
      "  5.32585799e+00 -1.70800694e+00  0.00000000e+00 -1.75584335e+00\n",
      "  1.57549038e+00  4.62734528e-02 -1.89301472e+00  2.10986192e-01\n",
      " -1.79805295e+00  7.82756661e+00  5.31147372e+00 -1.48155787e+00\n",
      "  0.00000000e+00 -1.96152512e+00  8.24741610e+00 -1.69045540e+00\n",
      "  2.94545533e+00  0.00000000e+00 -1.55975907e+00 -1.68242826e+00\n",
      " -1.56804841e+00 -8.91343607e-01  0.00000000e+00 -1.75406265e+00\n",
      "  8.13188291e-01  0.00000000e+00  8.82289096e-01 -1.40576512e+00\n",
      "  0.00000000e+00 -1.70249187e+00 -1.97708808e+00 -1.97986888e+00\n",
      " -1.92100262e+00  7.87510753e+00 -1.48848047e+00  6.71010060e+00\n",
      " -1.70284320e+00  1.49245208e+00 -1.78228205e+00 -1.84879895e+00\n",
      "  0.00000000e+00 -6.16983873e-01 -4.99041463e-01 -1.53308126e+00\n",
      " -1.88141492e+00  0.00000000e+00 -1.56575653e+00 -1.85098232e+00\n",
      "  0.00000000e+00  0.00000000e+00 -1.43706433e+00 -1.93598342e+00\n",
      " -1.26961724e+00  9.07519160e+00  7.52092554e+00  6.90795704e+00\n",
      " -6.96818452e-01 -1.64337933e+00  0.00000000e+00  0.00000000e+00\n",
      " -1.41973901e+00  0.00000000e+00 -1.80823364e+00 -1.38398215e+00\n",
      "  1.46194830e+01  1.13709131e+00 -1.99613990e+00  9.48328417e-01\n",
      " -1.98778613e+00  1.08556139e+01 -1.99359435e+00 -1.90247583e+00\n",
      "  0.00000000e+00  0.00000000e+00 -1.89064656e+00 -1.78300277e+00\n",
      " -1.91960273e+00  8.26356706e-01 -1.84628559e+00 -1.05393246e+00\n",
      "  1.80498332e+01  7.88555313e+00 -1.70435409e+00 -1.08033730e+00\n",
      " -1.25210555e+00  5.19960648e+00 -1.27147595e+00 -1.88427539e+00\n",
      "  1.16740667e+01 -1.69716614e+00 -1.86254167e+00  0.00000000e+00\n",
      " -1.85792643e+00  9.02526041e-02 -1.68598097e+00  6.06812290e+00\n",
      " -1.70598518e+00 -1.78071888e+00  4.84391089e+00  1.01526895e+01\n",
      "  9.02359347e-01  0.00000000e+00  0.00000000e+00  8.00631254e+00\n",
      "  3.60834505e+00  3.16316232e+00  1.53048662e+00  0.00000000e+00\n",
      "  7.33694383e+00  5.47103853e+00  3.08469071e+00  0.00000000e+00\n",
      "  7.28738063e+00  2.53660643e+01 -1.88371139e+00  9.87849185e+00\n",
      " -1.96361169e+00  8.83627360e+00  0.00000000e+00  0.00000000e+00\n",
      "  0.00000000e+00  0.00000000e+00  0.00000000e+00 -1.98427021e+00\n",
      "  4.07816907e+00  1.03506548e+01 -1.52059332e+00  0.00000000e+00\n",
      " -1.85248265e+00 -1.88675142e+00  1.57771226e+01  5.74559917e-01\n",
      " -1.72849668e+00 -1.67064738e+00  0.00000000e+00 -1.67667207e+00\n",
      " -1.53417985e+00  4.38348500e+00 -1.74322216e+00 -1.08090510e+00\n",
      "  9.61328695e+00  7.34549222e+00  2.66525975e-01 -1.92985777e+00\n",
      "  1.54426909e+00 -1.85911083e+00  0.00000000e+00 -1.99008768e+00\n",
      " -1.78130979e+00  5.20995323e+00  2.05880224e-01 -9.67619945e-01\n",
      " -1.95659575e+00  2.73501054e+00  1.17305601e+01 -1.84149594e+00\n",
      "  1.09540407e+01 -1.49079494e+00  2.48807244e+00 -1.95461673e+00\n",
      "  8.71818183e-01 -1.60487312e+00  1.93139656e+00 -1.95322748e+00\n",
      " -1.37360674e+00  5.60429063e+00 -1.60668140e+00 -1.55893954e+00\n",
      " -1.56261340e+00 -1.70043482e+00  2.26779734e+00 -1.62638521e+00\n",
      " -1.83149242e+00 -1.70933876e+00 -1.93404828e+00 -1.86372770e+00\n",
      " -1.91383547e+00  1.82586099e+01  0.00000000e+00  5.19243298e+00\n",
      "  1.08864420e+01  0.00000000e+00  1.01944884e+00  1.57151807e-01\n",
      "  2.26495183e+00 -1.52994437e+00 -1.37611027e+00 -1.17489247e+00\n",
      " -1.51721204e+00 -1.65910528e+00 -1.28224071e+00 -4.70276712e-01\n",
      " -1.17195158e+00 -1.52424829e+00  0.00000000e+00 -1.97918408e+00\n",
      " -1.52664979e+00  2.55257183e+00 -1.55752368e+00 -1.91168457e+00\n",
      "  5.22199864e+00 -1.82416303e+00 -1.93975940e+00  1.49219328e+00\n",
      "  2.65821901e+00 -1.95761997e+00 -1.02080492e+00  7.67778611e+00\n",
      " -6.82961612e-01  0.00000000e+00  0.00000000e+00  7.50117072e+00\n",
      "  1.49592637e+01  1.66359568e+01 -1.84441298e+00 -1.21180231e+00\n",
      "  6.77858068e+00 -1.75995291e+00  3.57653104e+00  2.84933416e+00\n",
      "  7.20200834e+00  0.00000000e+00 -9.86166056e-01 -1.46682219e+00\n",
      " -1.51063422e+00  0.00000000e+00 -1.04534446e+00 -7.90323608e-01\n",
      "  1.57405831e-01  3.06490722e+00  6.52295218e-03  6.15290285e-02\n",
      "  3.04654382e+00  0.00000000e+00 -1.74490940e+00 -1.77739284e+00\n",
      " -1.81610468e+00 -1.69372322e+00  0.00000000e+00  1.48343837e+01\n",
      " -8.61454943e-01  0.00000000e+00 -8.59458893e-01  0.00000000e+00\n",
      " -1.38438240e+00 -1.12424700e+00 -1.01780409e+00 -9.41446560e-01\n",
      "  1.10899575e+01 -1.83558349e+00  7.60490758e+00 -1.37565901e+00\n",
      " -1.46391540e+00  2.28888341e+00  6.21865768e+00 -1.54801105e+00\n",
      " -7.14465605e-01 -1.69998859e+00 -1.80400045e+00  1.57899310e+00\n",
      " -1.36742269e+00  0.00000000e+00 -1.86254831e+00 -1.97982874e+00\n",
      "  2.72752799e+00 -1.77122019e+00  1.26424588e+00 -1.97704978e+00\n",
      " -1.86139541e+00  1.46259406e+01  1.07967616e+01  0.00000000e+00\n",
      " -1.24545655e+00  0.00000000e+00 -1.65411039e+00  4.06873386e-01\n",
      " -1.87851503e+00 -1.58743606e+00 -1.89528523e+00 -1.32016476e+00\n",
      " -1.63567145e+00  0.00000000e+00  0.00000000e+00  0.00000000e+00\n",
      " -1.65895344e+00  2.27421880e+00 -1.98546946e+00  4.97632415e+00\n",
      "  0.00000000e+00 -1.26796439e+00  4.88465191e+00 -1.59557876e+00\n",
      "  1.99251429e+01 -1.81732879e+00 -9.48110361e-01 -7.88095997e-01\n",
      " -6.70907277e-01  6.95859205e-01 -1.29030300e+00 -1.09059356e+00\n",
      "  3.94298668e+00  5.10756848e+00  6.15121861e-01  3.39743592e+00\n",
      " -1.74529423e+00 -1.75465466e+00 -1.89590332e+00 -1.34434170e+00\n",
      "  1.21231346e-01  0.00000000e+00 -1.35284786e+00 -1.38571642e+00\n",
      " -1.69088079e+00  6.45145999e+00  2.36693343e+00  7.73583641e+00\n",
      " -1.45698576e+00  0.00000000e+00  2.37720928e+00 -1.22107931e+00\n",
      " -1.96272849e+00 -1.79988275e+00  0.00000000e+00  1.86758478e+01\n",
      "  0.00000000e+00 -1.88826994e+00 -1.97191948e+00 -1.69307073e+00\n",
      " -1.90615435e+00 -1.40539708e+00 -1.76579377e+00  4.80320195e+00\n",
      "  3.62115627e+00 -1.31473630e+00  2.73273191e+00 -1.50250504e+00\n",
      " -1.46200012e+00  0.00000000e+00 -9.14036447e-01  3.23094131e+00\n",
      "  4.85575631e+00 -1.86384505e+00 -1.87441502e+00  5.78485044e+00\n",
      " -3.03494484e-01 -1.73782813e+00  1.34658063e+01 -1.28303942e+00\n",
      " -1.43655096e+00  1.78049183e-02 -1.71451083e+00  1.78551016e+00\n",
      " -1.78861937e+00  4.15593264e-01 -1.95261860e+00  1.38700637e+01\n",
      "  3.98741794e-01 -1.65231786e+00 -1.80462101e+00 -1.42877810e+00\n",
      " -8.30801742e-01 -1.81302307e+00  0.00000000e+00 -1.46055485e+00\n",
      "  0.00000000e+00  1.77719711e+00 -1.91287860e+00  3.22965510e+00\n",
      "  1.90637085e+01  0.00000000e+00 -6.33927941e-01 -1.21070420e+00\n",
      " -5.84631494e-01 -1.90626304e+00 -1.79542281e+00 -1.41180040e+00\n",
      " -7.32627092e-01  1.33982083e+01 -1.66959613e+00  0.00000000e+00\n",
      " -1.84706568e+00 -1.68276461e+00  0.00000000e+00 -1.89892560e+00\n",
      "  1.30276979e+00 -1.64358254e+00  1.30634647e+01  8.45805606e+00\n",
      " -4.54320077e-01 -1.69696199e+00 -1.99355460e+00  1.15682857e-01\n",
      " -1.43977594e+00  9.77375109e+00  5.84684377e+00  1.14701491e+01\n",
      " -1.87245264e+00 -2.83599920e-01 -1.50131857e+00  2.74877615e+00\n",
      "  4.76124679e+00  7.25143129e-01 -1.17055727e+00  0.00000000e+00\n",
      "  0.00000000e+00  3.10502529e+00  1.14862003e-01 -1.37804718e+00\n",
      " -1.84939391e+00  3.90789333e+00 -1.83384023e+00 -1.79845198e+00\n",
      " -1.77319152e+00 -1.57959021e+00 -1.98010541e+00 -1.99024276e+00\n",
      "  0.00000000e+00  4.70774565e+00 -1.83172973e+00 -1.84576113e+00\n",
      " -1.11536530e+00 -1.23863570e+00  1.10969942e+01 -4.08515781e-01\n",
      " -1.97984528e+00  0.00000000e+00 -1.33572199e+00  0.00000000e+00\n",
      "  1.69201820e+01 -9.18685422e-01  1.53056097e+01 -1.82685467e+00\n",
      "  7.23166897e-02  3.06699437e-01 -1.52470930e+00  5.52942190e+00\n",
      "  0.00000000e+00  1.37911638e+01  2.01857903e+01 -1.76356258e+00\n",
      " -1.81222798e+00 -1.84929929e+00  1.61241868e-02 -1.89052664e+00\n",
      " -1.92113130e+00  2.75810407e+01 -1.72856570e+00  1.60362831e+01\n",
      "  1.26462413e+00  1.18302905e+00  0.00000000e+00  1.22706436e+00\n",
      "  3.16593076e-01 -1.44891456e+00  5.24037935e-01 -1.48151304e+00\n",
      "  1.82801448e+00  0.00000000e+00  1.18645930e+01 -1.49159046e+00\n",
      " -1.61797844e+00  0.00000000e+00  5.80573887e-01 -1.08353361e+00\n",
      " -1.87382606e+00 -1.48613090e+00 -1.84429793e+00  2.64917692e+00\n",
      "  1.19033385e+00 -1.27352162e+00 -1.84449493e+00  4.74112840e+00\n",
      " -1.36292948e+00 -1.77758807e+00 -1.72444231e+00 -1.67925038e+00\n",
      "  2.26315658e+01 -1.59585114e+00 -1.62789630e+00  1.97405833e+00\n",
      " -1.86225744e+00 -1.90508704e+00 -9.89511288e-01 -1.84456105e+00\n",
      " -1.78272954e+00  0.00000000e+00  0.00000000e+00 -1.76745898e+00\n",
      " -1.96958159e+00 -1.51497297e+00 -1.98213842e+00  7.14380302e+00\n",
      " -1.98443664e+00 -1.87737928e+00  0.00000000e+00 -1.70888146e+00\n",
      "  7.18012590e-01  5.33210299e-01 -6.43794507e-01 -1.58771201e+00\n",
      "  6.90278265e-01 -1.89314873e+00 -1.80095848e+00 -1.89161769e+00\n",
      " -1.61567267e+00 -1.98651482e+00  1.27781180e+01  0.00000000e+00\n",
      "  3.68951180e+00 -1.15946377e+00 -1.73818635e+00  1.36769198e+00\n",
      "  3.91652645e+00  0.00000000e+00  0.00000000e+00  0.00000000e+00\n",
      "  7.55419389e+00  4.84763956e+00 -1.92632351e+00  5.31902469e-01\n",
      "  2.27692357e+00  6.46137980e+00 -1.07597296e+00 -1.56093722e+00\n",
      "  2.57187845e+00  0.00000000e+00 -1.04757733e+00 -1.21980925e+00\n",
      " -1.91155438e+00  2.67983761e+00  0.00000000e+00 -1.57390547e+00\n",
      "  5.05390490e-01 -1.13559917e+00 -1.73936974e+00 -1.09701942e+00\n",
      " -1.71917556e+00 -1.33103435e+00 -1.40638246e+00  2.64095846e+00\n",
      " -1.41493748e+00  0.00000000e+00  1.84419087e+01  9.04231589e+00\n",
      " -1.70753900e+00 -1.81842862e+00  4.28424247e+00  2.17545450e-01\n",
      "  1.02461174e+00  1.26852646e+01 -1.73186701e+00  8.51348287e+00\n",
      "  4.44371636e+00  2.31309901e-02 -1.34954492e+00  0.00000000e+00\n",
      " -1.52936155e+00 -1.73892728e+00 -1.10820056e+00 -1.69800395e+00\n",
      " -1.89547805e+00 -1.99894604e+00  1.09932867e+01  3.12559310e-01\n",
      "  6.85790025e+00 -9.62822691e-01  1.00381938e+01 -1.31145822e+00\n",
      "  2.40052005e+01  0.00000000e+00 -1.81592912e+00 -9.89828628e-01\n",
      "  0.00000000e+00  1.21699719e-01  1.35178812e+01 -1.95724830e+00\n",
      "  9.32120144e-02  7.57782944e+00 -1.59497386e+00  3.73350325e-01\n",
      "  2.49468656e+00  0.00000000e+00  6.07321493e+00 -1.90102047e+00\n",
      "  1.60876500e+01  1.06495770e+01 -1.69822846e+00 -1.90925735e+00\n",
      " -1.46222882e+00 -1.24875355e+00  2.18121040e-01 -1.69702584e+00\n",
      "  8.44909669e+00 -1.45968900e+00 -1.45177783e+00 -1.98037709e+00\n",
      "  1.36045557e+00 -9.31885848e-01  0.00000000e+00  9.20951595e+00\n",
      " -1.89191077e+00  7.20287721e+00 -1.24841856e+00 -1.85856358e+00\n",
      "  4.09969213e+00  2.67554283e+00  0.00000000e+00  2.60862479e+00\n",
      " -1.38127713e+00 -1.92612821e+00 -1.81568046e+00  0.00000000e+00\n",
      " -1.89156933e+00 -1.69194726e+00  0.00000000e+00  1.46325081e-01\n",
      "  0.00000000e+00 -1.54564330e+00 -1.90062635e+00  4.04924666e+00\n",
      " -1.41610920e+00  0.00000000e+00 -1.79824530e+00  5.41449986e+00\n",
      "  0.00000000e+00 -1.81473271e+00 -1.90793176e+00  0.00000000e+00\n",
      " -1.17610462e+00  7.58377510e+00 -1.56814962e+00  0.00000000e+00\n",
      " -1.64289186e+00 -1.91905243e+00  6.34905996e+00  0.00000000e+00\n",
      " -1.90164105e+00  0.00000000e+00  0.00000000e+00  4.05672281e-01\n",
      "  1.22248704e+00  2.35175457e-01 -1.94383008e+00  9.69232558e-01\n",
      "  0.00000000e+00 -1.90427106e+00  0.00000000e+00  0.00000000e+00\n",
      " -1.04866389e+00 -1.29798484e+00 -1.35679900e+00  3.20511902e-02\n",
      " -1.56604659e+00  2.07785196e-02  1.31752981e+01  0.00000000e+00\n",
      "  0.00000000e+00 -1.97927922e+00 -1.81429084e+00  0.00000000e+00\n",
      "  0.00000000e+00 -1.29963866e+00  1.31369979e+00 -1.36924464e+00\n",
      "  8.21435948e+00 -1.46596903e+00 -1.27876275e+00  4.87279377e+00\n",
      "  2.12804443e-01  0.00000000e+00 -1.77426298e+00  0.00000000e+00\n",
      " -1.29184019e+00 -1.98379253e+00 -1.53196827e+00  4.33735844e+00\n",
      "  0.00000000e+00 -1.49735981e+00 -1.79427754e+00  5.95135481e+00\n",
      "  6.56115261e+00  1.75820689e+00  3.73796496e+00  1.67107658e+01\n",
      " -1.66187174e+00  7.64921865e+00 -1.34006371e+00  0.00000000e+00\n",
      " -1.69681213e+00  1.48516474e+00 -1.77714344e+00 -1.82236704e+00\n",
      " -1.76183127e+00  1.74007377e+00 -1.74319351e+00  2.07788593e+00\n",
      "  1.96725588e+00  0.00000000e+00  1.86641136e+01  0.00000000e+00\n",
      " -1.55852724e+00  1.58729564e+01 -1.69027036e+00 -1.92524727e+00\n",
      "  2.32394664e+00  2.61514448e+00  9.14944221e+00  0.00000000e+00\n",
      " -1.60208165e+00 -1.80284025e+00 -1.83352226e+00 -1.70615275e+00\n",
      "  5.34328301e-01 -8.00320829e-01  1.39697580e+00 -1.07975749e+00\n",
      " -1.21234434e+00 -1.05115715e+00  9.74970135e-01 -1.57766782e+00\n",
      " -1.77241736e+00  0.00000000e+00 -1.88691755e+00 -1.44014995e+00\n",
      "  0.00000000e+00  2.50344283e+00 -1.57774588e-01 -8.89574093e-01\n",
      "  1.64539409e+01  5.57074557e-02  0.00000000e+00  0.00000000e+00\n",
      " -1.09283941e+00 -1.54352085e+00 -1.58757357e+00 -9.79485301e-01\n",
      " -1.66787205e+00  0.00000000e+00  0.00000000e+00  7.78026404e+00\n",
      "  1.02024536e+00 -1.08048620e+00 -1.19579966e+00  0.00000000e+00\n",
      " -1.85330169e+00  0.00000000e+00  3.50145125e-01 -1.24259167e+00\n",
      " -1.78577143e+00 -1.98326437e+00  8.57964242e-01 -1.69549223e+00\n",
      "  0.00000000e+00 -1.51337761e+00 -5.22653019e-01 -1.94004687e+00\n",
      " -1.49359290e+00 -1.96980071e+00 -1.83029889e+00 -1.98089189e+00\n",
      "  0.00000000e+00 -8.86964965e-01  9.68450013e-01  2.50370138e+00\n",
      "  7.20850022e-01 -1.86212702e+00 -1.81223052e+00 -1.39071867e+00\n",
      "  1.67097038e+00 -1.77484941e+00 -1.98991994e+00  1.24851580e+00\n",
      "  3.39059503e+00  1.23882995e+00  6.70824054e+00  3.18102696e+00\n",
      "  3.92107738e-01  2.73072739e+00  8.03978655e+00  9.04849448e+00\n",
      " -9.92968555e-01 -1.90150983e+00 -1.72182410e+00 -1.93509801e+00\n",
      " -1.77754649e+00 -1.05165184e+00 -1.81139556e+00  0.00000000e+00\n",
      "  4.94683202e+00 -1.85521289e+00 -1.85720496e+00  1.00699619e+00\n",
      "  0.00000000e+00 -1.94791697e+00  0.00000000e+00  1.46835308e+01\n",
      " -1.35086284e+00  1.13030081e+00 -1.28030010e+00 -1.32951428e+00\n",
      "  9.10673425e-01 -1.07817006e+00  0.00000000e+00 -1.45664129e+00\n",
      " -1.98191129e+00 -1.80206777e+00 -1.98462252e+00 -3.14291045e-01\n",
      "  5.17512730e+00  1.71462452e+00 -1.71730963e+00 -1.64202043e+00\n",
      " -1.89562441e+00 -7.16818494e-01 -1.33721727e+00 -1.20191860e+00\n",
      " -1.88062189e+00 -1.54485028e+00  1.01116676e+00  0.00000000e+00\n",
      "  0.00000000e+00 -1.03083561e+00 -1.76060965e+00 -1.24446928e+00\n",
      "  0.00000000e+00 -1.28548669e+00 -1.52739543e+00 -1.95576628e+00\n",
      " -1.22954285e+00  4.45304328e+00 -1.40612845e+00  7.09360780e+00\n",
      " -1.83012738e+00 -1.61759643e+00  9.75858598e+00 -1.98619231e+00\n",
      "  1.10558718e+01  1.70240460e+01 -1.84747664e+00 -1.66237902e+00\n",
      " -1.84238566e+00  0.00000000e+00 -1.97884198e+00 -1.69057154e+00\n",
      "  9.88719770e-02 -1.43891671e+00  0.00000000e+00 -1.70093372e+00\n",
      " -1.18293736e+00 -6.63688054e-01  0.00000000e+00  0.00000000e+00\n",
      " -1.99348674e+00  2.61823906e+00 -1.83560410e+00 -1.43962876e+00\n",
      " -1.30680198e+00  3.91438236e-02 -1.15050374e+00  7.58340950e+00]\n"
     ]
    }
   ],
   "source": [
    "#calcular vector de ingresos promedio al repetir varias veces la simulacion\n",
    "\n",
    "nsim=1\n",
    "Lambda=0.7\n",
    "suma_total=np.zeros(N)\n",
    "agentesprom=np.zeros([nsim,N])#creamos una matriz con nsim filas y N columnas\n",
    "ingresoprom=np.zeros([nsim,N])\n",
    "#agentesprom=np.zeros(N)\n",
    "l_entroprom=[]\n",
    "\n",
    "for i in range(nsim):\n",
    "    initialize_agents(agents,N,T)\n",
    "    #l_entropia=interaction(agents,N,nsteps,W)\n",
    "    interaction(agents,N,nsteps,Lambda,credito)\n",
    "    for l in range(N):\n",
    "        suma_total[l]=agents[l]+credito[l]\n",
    "        \n",
    "    #hacer el u+v\n",
    "    #print(agents)\n",
    "    #print('-----------------------')\n",
    "    #print(credito)\n",
    "    #print('fin de la simulacion')\n",
    "    #ordenar la suma\n",
    "    ing_sort=np.sort(agents)\n",
    "    ingresoprom[i]=ing_sort\n",
    "    ag_sort=np.sort(suma_total)\n",
    "    agentesprom[i]=ag_sort\n",
    "    agents=np.zeros(N)\n",
    "    credito=np.zeros(N)"
   ]
  },
  {
   "cell_type": "code",
   "execution_count": null,
   "id": "0016e8fd",
   "metadata": {
    "id": "0016e8fd"
   },
   "outputs": [],
   "source": [
    "#promedio de m\n",
    "promedio_ag=np.mean(agentesprom,axis=0)"
   ]
  },
  {
   "cell_type": "code",
   "execution_count": null,
   "id": "6294ba25",
   "metadata": {},
   "outputs": [],
   "source": [
    "#calculo de la movilidad del promedio\n",
    "movilidad(promedio_ag, T, N)"
   ]
  },
  {
   "cell_type": "code",
   "execution_count": null,
   "id": "e16008bd",
   "metadata": {},
   "outputs": [],
   "source": [
    "#promedio de los ingresos u\n",
    "promedio_ing=np.mean(ingresoprom,axis=0)\n"
   ]
  },
  {
   "cell_type": "code",
   "execution_count": null,
   "id": "1117dac8",
   "metadata": {
    "id": "1117dac8"
   },
   "outputs": [],
   "source": [
    "intervals, frecuencies, s_eq=entropia(promedio_ag,W)"
   ]
  },
  {
   "cell_type": "code",
   "execution_count": null,
   "id": "815a4cd5",
   "metadata": {
    "colab": {
     "base_uri": "https://localhost:8080/",
     "height": 405
    },
    "id": "815a4cd5",
    "outputId": "34b6955a-7702-4056-8af4-816eef794f09"
   },
   "outputs": [],
   "source": [
    "fig = plt.figure(figsize=(8,6))\n",
    "plt.hist(x=promedio_ag,bins=intervals,color=\"skyblue\",rwidth=0.85,lw=1,edgecolor='black')\n",
    "plt.xlabel('Rangos por ingreso')\n",
    "plt.ylabel('Distribucion de individuos')\n",
    "#plt.xticks(intervals)\n",
    "#fig.savefig('CC01.png')"
   ]
  },
  {
   "cell_type": "code",
   "execution_count": null,
   "id": "194da859",
   "metadata": {},
   "outputs": [],
   "source": [
    "intervalos_ing, frecuencias_ing, s_ing=entropia(promedio_ing,W)"
   ]
  },
  {
   "cell_type": "code",
   "execution_count": null,
   "id": "b282b56f",
   "metadata": {},
   "outputs": [],
   "source": [
    "fig = plt.figure(figsize=(8,6))\n",
    "plt.hist(x=promedio_ing,bins=intervalos_ing,color=\"skyblue\",rwidth=0.85,lw=1,edgecolor='black')\n",
    "plt.xlabel('Rangos por ingreso')\n",
    "plt.ylabel('Distribucion de ingreso de los individuos')\n",
    "#plt.xticks(intervals)\n",
    "#fig.savefig('CC01.png')"
   ]
  },
  {
   "cell_type": "code",
   "execution_count": null,
   "id": "fa6d19b5",
   "metadata": {},
   "outputs": [],
   "source": [
    "print('Intervalos ingreso', intervalos_ing)\n",
    "print('Numero de ocupacion por clase', frecuencias_ing)"
   ]
  },
  {
   "cell_type": "code",
   "execution_count": null,
   "id": "2a0c89b8",
   "metadata": {},
   "outputs": [],
   "source": [
    "#movilidad social segun el articulo\n",
    "def movilidad_art(bins_ing,frec_ing,W):\n",
    "    prob_enc=np.zeros(W)\n",
    "    r=bins_ing\n",
    "    r_prom=np.zeros(W)\n",
    "    pkXk=np.zeros(W)\n",
    "    i=3\n",
    "    sum_k=0.0\n",
    "    mob=0.0\n",
    "    r_n=np.divide(r[W-2]+r[W-1],2)\n",
    "    r_iprom=np.divide(r[i+1]+r[i],2)\n",
    "    for k in range(1,W,1):\n",
    "        r_prom[k]=np.divide((r[k-1]+r[k]),2)\n",
    "        r_prom[i]=np.divide((r[i-1]+r[i]),2)\n",
    "        prob_enc[k]=np.divide(min(r_prom[k],r_prom[i]),4*r_n)\n",
    "        print(prob_enc[k])\n",
    "        pkXk[k]=prob_enc[k]*frec_ing[k]\n",
    "    sum_k=np.sum(pkXk)\n",
    "    mob=np.divide(sum_k,(r[i+1]-r[i]))\n",
    "    return mob\n"
   ]
  },
  {
   "cell_type": "code",
   "execution_count": null,
   "id": "8011da27",
   "metadata": {},
   "outputs": [],
   "source": [
    "movilidad_art(intervalos_ing,frecuencias_ing,W)\n"
   ]
  },
  {
   "cell_type": "code",
   "execution_count": null,
   "id": "SrKCgglYnB4L",
   "metadata": {
    "colab": {
     "base_uri": "https://localhost:8080/"
    },
    "id": "SrKCgglYnB4L",
    "outputId": "f6351074-5830-4b01-aaf3-93903102399f"
   },
   "outputs": [],
   "source": [
    "print(np.sum(promedio_ag))"
   ]
  },
  {
   "cell_type": "code",
   "execution_count": null,
   "id": "c42ca9d5",
   "metadata": {
    "colab": {
     "base_uri": "https://localhost:8080/",
     "height": 202
    },
    "id": "c42ca9d5",
    "outputId": "c0e35d55-90f6-43f9-e5ee-5e1e43254b47"
   },
   "outputs": [],
   "source": [
    "#enviar datos a excel\n",
    "df1=pd.DataFrame(data=promedio_ag)\n",
    "df1.to_excel('promedioagentesCC07.xlsx')"
   ]
  },
  {
   "cell_type": "code",
   "execution_count": null,
   "id": "64895218",
   "metadata": {
    "id": "64895218"
   },
   "outputs": [],
   "source": [
    "print(\"Intervalos :\", intervals)\n",
    "print(\"ni por rango:\", frecuencies)"
   ]
  },
  {
   "cell_type": "code",
   "execution_count": null,
   "id": "f3f408d2",
   "metadata": {
    "id": "f3f408d2"
   },
   "outputs": [],
   "source": [
    "#enviar datos a excel\n",
    "IntervalosCC07=pd.DataFrame(data=intervals)\n",
    "FrecCC07=pd.DataFrame(data=frecuencies)\n",
    "IntervalosCC07.to_excel('intervalosCC07.xlsx')\n",
    "FrecCC07.to_excel('frecuCC07.xlsx')"
   ]
  },
  {
   "cell_type": "code",
   "execution_count": null,
   "id": "f4b28cae",
   "metadata": {
    "id": "f4b28cae"
   },
   "outputs": [],
   "source": [
    "#Gini\n",
    "#Primero Verificamos que nuestro vector de dinero promedio este ordenado\n",
    "np.all(np.diff(promedio_ing) >= 0)\n"
   ]
  },
  {
   "cell_type": "code",
   "execution_count": null,
   "id": "f5adc680",
   "metadata": {
    "id": "f5adc680"
   },
   "outputs": [],
   "source": [
    "#Calculamos el Gini\n",
    "lista1Xcum, lista1Ycum, l1gini = gini(promedio_ing)\n",
    "\n",
    "print('El índice de Gini: ')\n",
    "print(l1gini)\n",
    "#print(np.sum(promedio_ag))"
   ]
  },
  {
   "cell_type": "code",
   "execution_count": null,
   "id": "91b67213",
   "metadata": {
    "id": "91b67213"
   },
   "outputs": [],
   "source": [
    "#Theil \n",
    "print('El índice de Theil: ')\n",
    "l1theil=theil(promedio_ag)\n",
    "print(l1theil)"
   ]
  },
  {
   "cell_type": "code",
   "execution_count": null,
   "id": "875cdd3e",
   "metadata": {
    "id": "875cdd3e"
   },
   "outputs": [],
   "source": [
    "#La entropia de Shannon para m=W\n",
    "print('La entropia de Shannon para m=W: ')\n",
    "inter,l1frecW,l1entrW = entropia(promedio_ag,W)\n",
    "print(l1entrW)"
   ]
  },
  {
   "cell_type": "code",
   "execution_count": null,
   "id": "a300edb3",
   "metadata": {
    "id": "a300edb3"
   },
   "outputs": [],
   "source": [
    "#La entropia de Shannon para m=20\n",
    "print('La entropia de Shannon para m=20: ')\n",
    "inter20,l1frec20,l1entr20 = entropia(promedio_ag,20)\n",
    "print(l1entr20)\n",
    "#La entropia de Shannon para m=10\n",
    "print('La entropia de Shannon para m=10: ')\n",
    "inter10,l1frec10,l1entr10 = entropia(promedio_ag,10)\n",
    "print(l1entr10)"
   ]
  },
  {
   "cell_type": "code",
   "execution_count": null,
   "id": "d7decd69",
   "metadata": {
    "id": "d7decd69"
   },
   "outputs": [],
   "source": []
  }
 ],
 "metadata": {
  "colab": {
   "name": "Chakraborti.ipynb",
   "provenance": []
  },
  "kernelspec": {
   "display_name": "Python 3",
   "language": "python",
   "name": "python3"
  },
  "language_info": {
   "codemirror_mode": {
    "name": "ipython",
    "version": 3
   },
   "file_extension": ".py",
   "mimetype": "text/x-python",
   "name": "python",
   "nbconvert_exporter": "python",
   "pygments_lexer": "ipython3",
   "version": "3.8.8"
  }
 },
 "nbformat": 4,
 "nbformat_minor": 5
}
