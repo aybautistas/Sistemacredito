{
 "cells": [
  {
   "cell_type": "markdown",
   "id": "ed4a4974",
   "metadata": {},
   "source": [
    "# Anexo 1: Código Simulación de agentes"
   ]
  },
  {
   "cell_type": "markdown",
   "id": "f26342f7",
   "metadata": {},
   "source": [
    "A continuación se presenta el codigo realizado para simular un modelo basado en agentes en el que se incorpora crédito, deuda y propension al ahorro. Además, se incorpora la definición de movilidad social y se calcula el ínidice de Gini para medir la desigualdad"
   ]
  },
  {
   "cell_type": "code",
   "execution_count": 1,
   "id": "3875d9b7",
   "metadata": {
    "id": "3875d9b7"
   },
   "outputs": [],
   "source": [
    "#Importar librerias\n",
    "import numpy as np\n",
    "import matplotlib.pyplot as plt\n",
    "import pandas as pd\n",
    "import random"
   ]
  },
  {
   "cell_type": "markdown",
   "id": "23a54940",
   "metadata": {},
   "source": [
    "Definición de funciones para la inicialización"
   ]
  },
  {
   "cell_type": "code",
   "execution_count": 2,
   "id": "31928a84",
   "metadata": {},
   "outputs": [],
   "source": [
    "# funcion 1 de inicializacion en la que a todos se les asigna inicialmente lo mismo \n",
    "def initialize_agents(ag,size,prom):\n",
    "    for i in range(size):\n",
    "        ag[i]=prom"
   ]
  },
  {
   "cell_type": "code",
   "execution_count": 3,
   "id": "8d10f04f",
   "metadata": {},
   "outputs": [],
   "source": [
    "#funcion 2 de inicializacion en la que a los primeros se les asigna 0 y a los demas el dinero promedio\n",
    "def initialize2(ag,size,prom,ndif):\n",
    "    for s in range(ndif):\n",
    "        ag[s]=0.0\n",
    "    for l in range(ndif,size,1):\n",
    "        ag[l]=np.divide((size*prom),(size-ndif))"
   ]
  },
  {
   "cell_type": "code",
   "execution_count": 4,
   "id": "63ac1603",
   "metadata": {},
   "outputs": [],
   "source": [
    "#funcion 3 de inicializacion en la que a cada agente se le da un ingreso aleatorio\n",
    "def initialize3(ag): \n",
    "    random.seed(1)\n",
    "    for i in range(len(ag)):\n",
    "        eps=random.uniform(0,100)\n",
    "        ag[i]=eps\n",
    "    M_total=np.sum(ag)\n",
    "    T=np.divide(M_total,len(ag))\n",
    "    return M_total,T"
   ]
  },
  {
   "cell_type": "markdown",
   "id": "8cbfa617",
   "metadata": {},
   "source": [
    "Definición función de interacción para los agentes incluyendo, credito, deuda y propensión al ahorro"
   ]
  },
  {
   "cell_type": "code",
   "execution_count": 5,
   "id": "be9f5661",
   "metadata": {
    "id": "be9f5661"
   },
   "outputs": [],
   "source": [
    "def interaction(ag,N,nsteps,Lambda,cr,mdeuda):\n",
    "    #epsilon=random.uniform(-1,1) #primer cambio epsilon entre -1 y 1\n",
    "    for k in range(nsteps):\n",
    "        epsilon=random.uniform(-1,1)\n",
    "        i=random.randint(0,N-1)\n",
    "        j=random.randint(0,N-1) \n",
    "        if i!=j:\n",
    "            '''\n",
    "            print('i',i)\n",
    "            print('j',j)\n",
    "            print('vector credito antes de interactuar', cr)\n",
    "            '''\n",
    "            tempi=ag[i]\n",
    "            tempj=ag[j]\n",
    "            delta_m=(1-Lambda)*(epsilon*tempj-(1-epsilon)*tempi)\n",
    "            '''\n",
    "            print('tempi',tempi)\n",
    "            print('tempj', tempj)\n",
    "            print('deltam',delta_m)\n",
    "            '''\n",
    "            mi = tempi + delta_m #winner\n",
    "            mj = tempj - delta_m #loser\n",
    "            '''\n",
    "            print('mi despues de interactuar', mi)\n",
    "            print('mj despues de interactuar', mj)\n",
    "            '''\n",
    "            crfi = cr[i]-np.abs(mi)#vi' (si i perdiera y se hiciera la transaccción)      \n",
    "            crfj = cr[j]-np.abs(mj)# vj' (si j perdiera y se hiciera la transaccción)\n",
    "            #condicion para j  -> deuda cuando pido dinero prestado\n",
    "            \n",
    "            if ((crfj>mdeuda and mj>mdeuda) and (mj<0 and mi>=np.abs(mj))): #segundo cambio agrupar los ands\n",
    "                 #tercer cambio poner if en otra posicion\n",
    "                cr[j] += mj        #vector v para guardar la deuda \n",
    "                   #condicion para i  -> credito cuando presto dinero\n",
    "                cr[i] += -1*mj #para garantizar que i tenga dinero suficiente para hacer el prestamo\n",
    "                ag[i]=mi-np.abs(mj)\n",
    "                ag[j]=0\n",
    "                '''    \n",
    "                print('credito j',cr[j])\n",
    "                print('credito i', cr[i])\n",
    "                print('mi despues credito', mi)\n",
    "                print('mj despues credito', mj)\n",
    "                '''\n",
    "          \n",
    "            #si j es el que presta\n",
    "            if ((crfi>mdeuda and mi>mdeuda) and (mi<0 and mj>=np.abs(mi))): #segundo cambio agrupar los ands\n",
    "            #tercer cambio poner if en otra posicion\n",
    "                cr[i] += mi        #vector v para guardar la deuda \n",
    "            #condicion para i  -> credito cuando presto dinero\n",
    "                cr[j] += -1*mi #para garantizar que i tenga dinero suficiente para hacer el prestamo\n",
    "                ag[j]=mj-np.abs(mi)\n",
    "                ag[i]=0\n",
    "                '''\n",
    "                print('credito i',cr[i])\n",
    "                print('credito j', cr[j])\n",
    "                print('mi despues credito', mi)\n",
    "                print('mj despues credito', mj)\n",
    "                '''    \n",
    "           \n",
    "            #guardar los ingresos en u\n",
    "            if (mi>=0 and mj>=0):\n",
    "                ag[i]=mi\n",
    "                ag[j]=mj\n",
    "            '''\n",
    "            print('ingreso i', ag[i])\n",
    "            print('ingreso j', ag[j])\n",
    "            print('fin del paso de tiempo')\n",
    "            print('         ')\n",
    "            '''\n",
    "            #u viene de los ingresos u=[0,infinto] y v=[-mdeuda,infinito]\n"
   ]
  },
  {
   "cell_type": "markdown",
   "id": "7f44f690",
   "metadata": {},
   "source": [
    "Función creación de intervalos para asignar las clases sociales "
   ]
  },
  {
   "cell_type": "code",
   "execution_count": 6,
   "id": "5db2ba5a",
   "metadata": {},
   "outputs": [],
   "source": [
    "def crear_intervalos(w,mini,maxi):\n",
    "    Imin=mini\n",
    "    Imax=maxi\n",
    "    ancho=np.divide((Imax-Imin),1.0*w)\n",
    "    intervalos=[]\n",
    "    for k in range(w):\n",
    "        mink=Imin+k*ancho\n",
    "        maxk=Imin+(k+1)*ancho\n",
    "        intervalos.append(mink)\n",
    "    intervalos.append(Imax)\n",
    "    return intervalos"
   ]
  },
  {
   "cell_type": "markdown",
   "id": "3f3050c4",
   "metadata": {},
   "source": [
    "Función para asignar la clase según el rango de ingreso"
   ]
  },
  {
   "cell_type": "code",
   "execution_count": 7,
   "id": "f3717dc7",
   "metadata": {},
   "outputs": [],
   "source": [
    "def asignar_clase(ag,intervalos,l_clase,w):\n",
    "    for i in range(len(ag)):\n",
    "        for k in range(w):\n",
    "            if (k != w-1):\n",
    "                if (ag[i]>=intervalos[k] and ag[i]<intervalos[k+1]):\n",
    "                    l_clase[i]=k\n",
    "            if k==w-1:\n",
    "                if (ag[i]>=intervalos[k] and ag[i]<=intervalos[k+1]):\n",
    "                    l_clase[i]=k\n"
   ]
  },
  {
   "cell_type": "markdown",
   "id": "8564dada",
   "metadata": {},
   "source": [
    "Función para calcular los valores minimo y máximo de los intervalos a crear"
   ]
  },
  {
   "cell_type": "code",
   "execution_count": 8,
   "id": "b3e84da6",
   "metadata": {},
   "outputs": [],
   "source": [
    "def evaluar_minmax(ag_i,ag_f):\n",
    "    valor_min=0\n",
    "    valor_max=0\n",
    "    min_agi=np.min(ag_i)\n",
    "    min_agf=np.min(ag_f)\n",
    "    max_agi=np.max(ag_i)\n",
    "    max_agf=np.max(ag_f)\n",
    "    valor_min=min(min_agi,min_agf)\n",
    "    valor_max=max(max_agi,max_agf)\n",
    "    return valor_min, valor_max"
   ]
  },
  {
   "cell_type": "markdown",
   "id": "4642ee58",
   "metadata": {},
   "source": [
    "Función para inicializar el vector de agentes final "
   ]
  },
  {
   "cell_type": "code",
   "execution_count": 9,
   "id": "e184408c",
   "metadata": {},
   "outputs": [],
   "source": [
    "def iniciar_agf(ag_i,ag_f):\n",
    "    for i in range(len(ag_i)):\n",
    "        ag_f[i]=ag_i[i]"
   ]
  },
  {
   "cell_type": "code",
   "execution_count": 10,
   "id": "5a34ed5b",
   "metadata": {
    "id": "5a34ed5b"
   },
   "outputs": [],
   "source": [
    "#función para calcular la entropía\n",
    "def entropia(ag,w):\n",
    "    #parametros para los intervalos\n",
    "    S=ag.size # numero de agentes\n",
    "    Imin=np.min(ag)\n",
    "    Imax=np.max(ag)\n",
    "    ancho=np.divide((Imax-Imin),1.0*w)\n",
    "    intervalos=[]\n",
    "    #parametros calculo de la entropia de Shannon\n",
    "    pi=np.zeros(w)\n",
    "    pilnpi=np.zeros(w)\n",
    "    frec=np.zeros(w)\n",
    "    #crear los intervalos\n",
    "    for k in range(w):\n",
    "        mink=Imin+k*ancho\n",
    "        maxk=Imin+(k+1)*ancho\n",
    "        intervalos.append(mink)\n",
    "        #empezamos a calcular las frecuencias\n",
    "        if k==w-1: #para el ultimo intervalo la condicion debe ser cerrada para maxk\n",
    "            frec[k]=len(ag[(ag>=mink) & (ag<=maxk)])\n",
    "        else:\n",
    "            frec[k]=len(ag[(ag>=mink) & (ag<maxk)])\n",
    "        #una vez que ya tenemos la frecuencia, calculamos pi\n",
    "        pi[k]=np.divide(frec[k],1.0*S)\n",
    "        #calculamos pi*lnpi\n",
    "        if pi[k]==0:\n",
    "            pilnpi[k]=0\n",
    "        else:\n",
    "            pilnpi[k]=pi[k]*np.log(pi[k])\n",
    "    #agregamos el ultimo limite a los intervalos\n",
    "    intervalos.append(Imax)\n",
    "    #calculamos la suma de pilnpi\n",
    "    sumpilnpi=np.sum(pilnpi)\n",
    "    entropy=-1*sumpilnpi\n",
    "    #al final retornamos los intervalos, las frecuencias y la entropia\n",
    "    return intervalos,frec,entropy\n"
   ]
  },
  {
   "cell_type": "markdown",
   "id": "6e3a1ac8",
   "metadata": {},
   "source": [
    "Función para calcular el índice de Gini"
   ]
  },
  {
   "cell_type": "code",
   "execution_count": 11,
   "id": "1e528081",
   "metadata": {
    "id": "1e528081"
   },
   "outputs": [],
   "source": [
    "#funcion para calcular el gini\n",
    "def gini(df0):\n",
    "    N=df0.size\n",
    "    Itotal=np.sum(df0)\n",
    "    #creamos arrays para calcular poblacion e ingreso acumulado\n",
    "    Xing=np.zeros(N) #ingreso de cada individuo/ingreso total\n",
    "    Xcum=np.zeros(N) #ingreso acumulado\n",
    "    Xsum=np.zeros(N) #Xk+Xk-1\n",
    "    Ypob=np.zeros(N) #1/pobtotal\n",
    "    Ycum=np.zeros(N) #poblacion agregada\n",
    "    Ydiff=np.zeros(N) #Yk-Yk-1\n",
    "    XsumYdiff=np.zeros(N) #(Xk+Xk-1)(Yk-Yk-1)\n",
    "    \n",
    "    for i in range(N):\n",
    "        #llenamos array Xing\n",
    "        Xing[i]=1.0*df0[i]/Itotal\n",
    "        #llenamos array Xcum\n",
    "        if i==0:\n",
    "            Xcum[i]=Xing[i]\n",
    "        else:\n",
    "            Xcum[i]=Xing[i]+Xcum[i-1]\n",
    "        #llenamos array Xsum\n",
    "        if i==0:\n",
    "            Xsum[i]=Xcum[i]\n",
    "        else:\n",
    "            Xsum[i]=Xcum[i]+Xcum[i-1]\n",
    "        #hacemos lo mismo para Y\n",
    "        Ypob[i]=1.0/N\n",
    "        if i==0:\n",
    "            Ycum[i]=Ypob[i]\n",
    "        else:\n",
    "            Ycum[i]=Ypob[i]+Ycum[i-1]\n",
    "        if i==0:\n",
    "            Ydiff[i]=Ycum[i]\n",
    "        else:\n",
    "            Ydiff[i]=Ycum[i]-Ycum[i-1]\n",
    "        #llenar array de multiplicacion (Xk+Xk+1)(Yk-Yk-1)\n",
    "        XsumYdiff[i]=Xsum[i]*Ydiff[i]\n",
    "    #una vez todo este lleno calculamos la suma\n",
    "    sumaXsumYdiff=np.sum(XsumYdiff)\n",
    "    Gini=1.0-sumaXsumYdiff\n",
    "    return Gini"
   ]
  },
  {
   "cell_type": "code",
   "execution_count": 12,
   "id": "e9431e41",
   "metadata": {
    "id": "e9431e41"
   },
   "outputs": [],
   "source": [
    "#funcion para calcular el Theil\n",
    "def theil(df0):\n",
    "    N=df0.size\n",
    "    Itotal=np.sum(df0)\n",
    "    Ui=np.zeros(N) #array fraccion de ingreso con respecto al total\n",
    "    UilnUi=np.zeros(N)\n",
    "    for j in range(N):\n",
    "        Ui[j]=1.0*df0[j]/Itotal\n",
    "        if Ui[j]==0:\n",
    "            UilnUi[j]=0\n",
    "        else:\n",
    "            UilnUi[j]=Ui[j]*np.log(Ui[j])\n",
    "    #calculamos la suma Ui*lnUi\n",
    "    sumaUilnUi=np.sum(UilnUi)\n",
    "    Theil=1+sumaUilnUi\n",
    "    Theil_norm=1+np.divide(sumaUilnUi,np.log(N))\n",
    "    return Theil_norm"
   ]
  },
  {
   "cell_type": "markdown",
   "id": "80d7f956",
   "metadata": {},
   "source": [
    "Función para calcular el número de individuos que incrementaron su ingreso"
   ]
  },
  {
   "cell_type": "code",
   "execution_count": 13,
   "id": "2cb05d59",
   "metadata": {},
   "outputs": [],
   "source": [
    "def prob_incrementoingreso(final, inicial, numAgentes):\n",
    "    diferencia = final-inicial\n",
    "    #print('diferencia', diferencia)\n",
    "    num = len(diferencia[diferencia>0])\n",
    "    print('# de agentes que aumentaron su ingreso', num)\n",
    "    probabilidad = num/numAgentes\n",
    "    print('probabilidad de aumentar ingreso', probabilidad)\n",
    "    return probabilidad"
   ]
  },
  {
   "cell_type": "markdown",
   "id": "b9452c82",
   "metadata": {},
   "source": [
    "Función para calcular la probabilidad de ascender una o más clases sociales (movilidad social)"
   ]
  },
  {
   "cell_type": "code",
   "execution_count": 14,
   "id": "9346be44",
   "metadata": {},
   "outputs": [],
   "source": [
    "def prob_ascenderclase(ag_i,ag_f,w,c_inicial,c_final):\n",
    "    N=len(ag_i) #numero de agentes\n",
    "    minI,maxI=evaluar_minmax(ag_i,ag_f) #crear valores minimo y maximo para intervalos\n",
    "    intervalos_com=crear_intervalos(w,minI,maxI) #creacion intervalos\n",
    "    asignar_clase(ag_i,intervalos_com,c_inicial,w) #asignacion de clase arreglo agentes inicial\n",
    "    asignar_clase(ag_f,intervalos_com,c_final,w) #asignacion de clase arreglo agentes final\n",
    "    diferencia=c_final-c_inicial # calcular la diferencia de clase\n",
    "    num_subieron=np.count_nonzero(diferencia>=1) #calcular el numero de personas que ascendieron una clase o mas\n",
    "    prob=num_subieron/N\n",
    "    return intervalos_com,prob    "
   ]
  },
  {
   "cell_type": "code",
   "execution_count": 15,
   "id": "86d0104d",
   "metadata": {},
   "outputs": [],
   "source": [
    "def sumar_uv(ag_f,cr,suma_t):\n",
    "    for l in range(len(ag_f)):\n",
    "        suma_t[l]=ag_f[l]+cr[l] "
   ]
  },
  {
   "cell_type": "markdown",
   "id": "12e590f3",
   "metadata": {},
   "source": [
    "# Comienzo de la simulación"
   ]
  },
  {
   "cell_type": "markdown",
   "id": "977c67a9",
   "metadata": {},
   "source": [
    "Definición de constantes y arreglos iniciales"
   ]
  },
  {
   "cell_type": "code",
   "execution_count": 86,
   "id": "b4296943",
   "metadata": {},
   "outputs": [],
   "source": [
    "#Definicion de constantes\n",
    "N=1000 #numero de agentes\n",
    "W=10 #numero de estados\n",
    "nsteps=1*10**4 # numero de pasos de tiempo\n",
    "Lambda=0.6\n",
    "max_deuda=-1*20\n",
    "agentes_inicial=np.zeros(N) #creamos un array en cada casilla tenemos el dinero del agente i-esimo al inicio\n",
    "agentes_final=np.zeros(N) #arreglo con ingreso final de cada uno de los agentes\n",
    "credito=np.zeros(N)   #arreglo v para guardar el credito y la deuda\n",
    "clases_inicial=np.zeros(N) #arreglo para asignar la clase en la que esta cada agente al inicio\n",
    "clases_final=np.zeros(N)  #arreglo para asignar la clase de cada agente al final\n",
    "intervalos_comun=np.zeros(W+1) #intervalos para construir el histograma y asignar las clases\n",
    "diferencia=np.zeros(N)  #arreglo para encontrar cuantos individuos aumentan una clase o mas\n",
    "suma_total=np.zeros(N)"
   ]
  },
  {
   "cell_type": "code",
   "execution_count": 87,
   "id": "50c0f02c",
   "metadata": {},
   "outputs": [],
   "source": [
    "#empezar simulacion\n",
    "\n",
    "M,T=initialize3(agentes_inicial)\n",
    "iniciar_agf(agentes_inicial,agentes_final)\n",
    "interaction(agentes_final,N,nsteps,Lambda,credito,max_deuda)\n",
    "sumar_uv(agentes_final,credito,suma_total)\n",
    "intervalos,movilidad=prob_ascenderclase(agentes_inicial,agentes_final,W,clases_inicial,clases_final)\n",
    "   "
   ]
  },
  {
   "cell_type": "code",
   "execution_count": 88,
   "id": "a5c9bb85",
   "metadata": {},
   "outputs": [
    {
     "name": "stdout",
     "output_type": "stream",
     "text": [
      "dinerototal: 51413.70278623857\n",
      "dinero promedio por agente: 51.413702786238574\n"
     ]
    }
   ],
   "source": [
    "#dinero total y dinero promedio\n",
    "print('dinerototal:',M)\n",
    "print('dinero promedio por agente:', T)"
   ]
  },
  {
   "cell_type": "markdown",
   "id": "8c4d8223",
   "metadata": {},
   "source": [
    "# Gráficas "
   ]
  },
  {
   "cell_type": "markdown",
   "id": "5314c381",
   "metadata": {},
   "source": [
    "Histograma Ingreso Final"
   ]
  },
  {
   "cell_type": "code",
   "execution_count": 68,
   "id": "815a4cd5",
   "metadata": {
    "colab": {
     "base_uri": "https://localhost:8080/",
     "height": 405
    },
    "id": "815a4cd5",
    "outputId": "34b6955a-7702-4056-8af4-816eef794f09"
   },
   "outputs": [
    {
     "data": {
      "text/plain": [
       "Text(0.5, 1.0, 'Distribución de ingreso para los individuos')"
      ]
     },
     "execution_count": 68,
     "metadata": {},
     "output_type": "execute_result"
    },
    {
     "data": {
      "image/png": "[encoded data removed]",
      "text/plain": [
       "<Figure size 576x432 with 1 Axes>"
      ]
     },
     "metadata": {
      "needs_background": "light"
     },
     "output_type": "display_data"
    }
   ],
   "source": [
    "#Histograma Ingreso final\n",
    "fig = plt.figure(figsize=(8,6))\n",
    "plt.hist(x=agentes_final,bins=intervalos,color=\"skyblue\",rwidth=0.85,lw=1,edgecolor='black',alpha=0.6)\n",
    "plt.xlabel('Rangos por ingreso')\n",
    "plt.ylabel('Número de individuos')\n",
    "plt.title('Distribución de ingreso para los individuos')\n",
    "#plt.xticks(intervals)\n",
    "#fig.savefig('CC01.png')"
   ]
  },
  {
   "cell_type": "code",
   "execution_count": 69,
   "id": "26632437",
   "metadata": {},
   "outputs": [],
   "source": [
    "#obtener intervalos para la distribución de la suma total u+v\n",
    "min_suma=np.min(suma_total)\n",
    "max_suma=np.max(suma_total)\n",
    "intervalos_suma=crear_intervalos(W,min_suma,max_suma)"
   ]
  },
  {
   "cell_type": "markdown",
   "id": "233951ab",
   "metadata": {},
   "source": [
    "Histograma para la suma total u+v"
   ]
  },
  {
   "cell_type": "code",
   "execution_count": 70,
   "id": "b282b56f",
   "metadata": {},
   "outputs": [
    {
     "data": {
      "text/plain": [
       "Text(0.5, 1.0, 'Distribución de dinero total m para los individuos')"
      ]
     },
     "execution_count": 70,
     "metadata": {},
     "output_type": "execute_result"
    },
    {
     "data": {
      "image/png": "[encoded data removed]",
      "text/plain": [
       "<Figure size 576x432 with 1 Axes>"
      ]
     },
     "metadata": {
      "needs_background": "light"
     },
     "output_type": "display_data"
    }
   ],
   "source": [
    "fig = plt.figure(figsize=(8,6))\n",
    "plt.hist(x=suma_total,bins=intervalos_suma,color=\"orange\",rwidth=0.85,lw=1,edgecolor='black',alpha=0.6)\n",
    "plt.xlabel('Rangos por ingreso')\n",
    "plt.ylabel('Número de individuos')\n",
    "plt.title('Distribución de dinero total m para los individuos')\n",
    "#plt.xticks(intervals)\n",
    "#fig.savefig('CC01.png')"
   ]
  },
  {
   "cell_type": "markdown",
   "id": "960d73d0",
   "metadata": {},
   "source": [
    "Cálculo del indice de Gini"
   ]
  },
  {
   "cell_type": "code",
   "execution_count": 89,
   "id": "7706e68f",
   "metadata": {},
   "outputs": [
    {
     "name": "stdout",
     "output_type": "stream",
     "text": [
      "El índice de Gini: \n",
      "0.5071000890207571\n"
     ]
    }
   ],
   "source": [
    "ing_sort=np.sort(agentes_final)\n",
    "l1gini = gini(ing_sort)\n",
    "\n",
    "print('El índice de Gini: ')\n",
    "print(l1gini)"
   ]
  },
  {
   "cell_type": "markdown",
   "id": "2990a94c",
   "metadata": {},
   "source": [
    "Movilidad Social"
   ]
  },
  {
   "cell_type": "code",
   "execution_count": 90,
   "id": "7b9a2f86",
   "metadata": {},
   "outputs": [
    {
     "name": "stdout",
     "output_type": "stream",
     "text": [
      "Movilidad:  0.288\n"
     ]
    }
   ],
   "source": [
    "#Movilidad calculada\n",
    "print('Movilidad: ', movilidad)"
   ]
  },
  {
   "cell_type": "markdown",
   "id": "87c5b915",
   "metadata": {},
   "source": [
    "# Exportación de datos"
   ]
  },
  {
   "cell_type": "markdown",
   "id": "b364aab4",
   "metadata": {},
   "source": [
    "Enviar datos ingreso u"
   ]
  },
  {
   "cell_type": "code",
   "execution_count": 91,
   "id": "c42ca9d5",
   "metadata": {
    "colab": {
     "base_uri": "https://localhost:8080/",
     "height": 202
    },
    "id": "c42ca9d5",
    "outputId": "c0e35d55-90f6-43f9-e5ee-5e1e43254b47"
   },
   "outputs": [],
   "source": [
    "ing=pd.DataFrame(data=agentes_final)\n",
    "ing.to_excel('ingresom-20.xlsx')"
   ]
  },
  {
   "cell_type": "markdown",
   "id": "4093dc8e",
   "metadata": {},
   "source": [
    "Enviar datos dinero total (ingreso+credito)"
   ]
  },
  {
   "cell_type": "code",
   "execution_count": 92,
   "id": "14abf2c5",
   "metadata": {},
   "outputs": [],
   "source": [
    "creing=pd.DataFrame(data=suma_total)\n",
    "creing.to_excel('sumatm-20.xlsx')"
   ]
  },
  {
   "cell_type": "code",
   "execution_count": null,
   "id": "d7decd69",
   "metadata": {
    "id": "d7decd69"
   },
   "outputs": [],
   "source": []
  }
 ],
 "metadata": {
  "colab": {
   "name": "Chakraborti.ipynb",
   "provenance": []
  },
  "kernelspec": {
   "display_name": "Python 3",
   "language": "python",
   "name": "python3"
  },
  "language_info": {
   "codemirror_mode": {
    "name": "ipython",
    "version": 3
   },
   "file_extension": ".py",
   "mimetype": "text/x-python",
   "name": "python",
   "nbconvert_exporter": "python",
   "pygments_lexer": "ipython3",
   "version": "3.8.8"
  }
 },
 "nbformat": 4,
 "nbformat_minor": 5
}
